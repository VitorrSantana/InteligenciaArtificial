{
 "cells": [
  {
   "cell_type": "code",
   "execution_count": 278,
   "metadata": {},
   "outputs": [],
   "source": [
    "import numpy as np\n",
    "import pandas as pd\n",
    "import random\n",
    "import math\n",
    "import matplotlib.pyplot as plt\n",
    "\n",
    "N   = 100\n",
    "COL = 2"
   ]
  },
  {
   "cell_type": "code",
   "execution_count": 279,
   "metadata": {},
   "outputs": [],
   "source": [
    "def getX():\n",
    "    return np.random.uniform(low = -10, high = 10, size = (N, COL))"
   ]
  },
  {
   "cell_type": "code",
   "execution_count": 280,
   "metadata": {},
   "outputs": [],
   "source": [
    "def getRanked(x): \n",
    "    MAX = 100\n",
    "    MIN = 1\n",
    "    birdFunc = lambda x,y: np.sin(x)*np.exp(np.power(1-np.cos(y), 2))+np.cos(y)*np.exp(np.power(1-np.sin(x), 2))+np.power((x-y), 2)\n",
    "\n",
    "    list = []\n",
    "    for it in x:\n",
    "        list.append({\n",
    "            'valor': birdFunc(it[0], it[1]),\n",
    "            'x': it[0],\n",
    "            'y': it[1],\n",
    "        })\n",
    "    list.sort(key=lambda x: x['valor'])\n",
    "    list\n",
    "\n",
    "    ranked = []\n",
    "    for index, it in enumerate(x):\n",
    "        curValue = math.floor(MIN + ((MAX - MIN) * (N - index - 1) / (N-1)))\n",
    "        ranked.append({\n",
    "            'rank': curValue,\n",
    "            'object': list[index]\n",
    "        })\n",
    "    return ranked"
   ]
  },
  {
   "cell_type": "code",
   "execution_count": 281,
   "metadata": {},
   "outputs": [],
   "source": [
    "\n",
    "def crossover(ranked,taxa_cruzamento = 0.7):\n",
    "    indice = 99\n",
    "    valores = [i['object']['valor'] for i in ranked]\n",
    "    pesos = [i['rank'] for i in ranked]\n",
    "    \n",
    "    offspring = []\n",
    "    for parent in [random.choices(range(N), weights=pesos, k=2) for ind in range(math.floor(N/2))]:\n",
    "        alpha = random.random()\n",
    "        if (random.random() <= taxa_cruzamento):\n",
    "            x = (alpha * ranked[parent[0]]['object']['x'] + (1-alpha) * ranked[parent[1]]['object']['x'])\n",
    "            y = (alpha * ranked[parent[0]]['object']['y'] + (1-alpha) * ranked[parent[1]]['object']['y'])\n",
    "            offspring.append([x,y])\n",
    "    \n",
    "            x = (alpha * ranked[parent[1]]['object']['x'] + (1-alpha) * ranked[parent[0]]['object']['x'])\n",
    "            y = (alpha * ranked[parent[1]]['object']['y'] + (1-alpha) * ranked[parent[0]]['object']['y'])\n",
    "            offspring.append([x,y])\n",
    "        else:\n",
    "            x = (ranked[parent[0]]['object']['x'])\n",
    "            y = (ranked[parent[0]]['object']['y'])\n",
    "            offspring.append([x,y])\n",
    "\n",
    "            x = (ranked[parent[1]]['object']['x'])\n",
    "            y = (ranked[parent[1]]['object']['y'])\n",
    "            offspring.append([x,y])\n",
    "\n",
    "    return offspring"
   ]
  },
  {
   "cell_type": "code",
   "execution_count": 282,
   "metadata": {},
   "outputs": [],
   "source": [
    "def mutation(input,mutation_rate):\n",
    "    mutacao = []\n",
    "    for individ in input:\n",
    "        if (random.random()<=mutation_rate):\n",
    "            x = (individ[0] + random.uniform(-1,1))\n",
    "            y = (individ[1] + random.uniform(-1,1))\n",
    "            mutacao.append([x,y])\n",
    "        else:\n",
    "            mutacao.append([individ[0],individ[1]])\n",
    "    return mutacao"
   ]
  },
  {
   "cell_type": "code",
   "execution_count": 286,
   "metadata": {},
   "outputs": [],
   "source": [
    "def fit(num_iterations,crossing_rate,mutation_rate,sample_size):\n",
    "    \n",
    "    input = getX()\n",
    "    worse_fit = []\n",
    "    best_fit  = []\n",
    "    avg_fit   = []\n",
    "\n",
    "    for itert in range(num_iterations):\n",
    "        input = getRanked(input)\n",
    "        # print(input)\n",
    "        result = [i['object']['valor'] for i in input]\n",
    "        worse_fit.append(result[len(result)-1])\n",
    "\n",
    "        best_fit.append(result[0])\n",
    "\n",
    "        avg_fit.append(sum(result)/N)\n",
    "\n",
    "        input = crossover(input,crossing_rate)\n",
    "        input = mutation(input,mutation_rate)\n",
    "\n",
    "    birdFunc = lambda x,y: np.sin(x)*np.exp(np.power(1-np.cos(y), 2))+np.cos(y)*np.exp(np.power(1-np.sin(x), 2))+np.power((x-y), 2)\n",
    "    return sum([birdFunc(it[0],it[1]) for it in input])/(-106.77*N),worse_fit,best_fit,avg_fit,[input[0][0],input[0][1]]"
   ]
  },
  {
   "cell_type": "code",
   "execution_count": 289,
   "metadata": {},
   "outputs": [
    {
     "name": "stdout",
     "output_type": "stream",
     "text": [
      "Coord: x: -1.5821421751765512, y: -3.130246798587402\n",
      "Acuracia: 0.9910051732305073\n"
     ]
    },
    {
     "data": {
      "image/png": "[encoded data removed]",
      "text/plain": [
       "<Figure size 432x288 with 1 Axes>"
      ]
     },
     "metadata": {
      "needs_background": "light"
     },
     "output_type": "display_data"
    }
   ],
   "source": [
    "acuracia,worse_fit,best_fit,avg_fit,coord = fit(100,0.6,0.01,100)\n",
    "\n",
    "print(f'Coord: x: {coord[0]}, y: {coord[1]}')\n",
    "print(f'Acuracia: {acuracia}')\n",
    "\n",
    "plt.plot(worse_fit, 'r')\n",
    "plt.plot(best_fit,'g')\n",
    "plt.plot(avg_fit,'b')\n",
    "plt.show()"
   ]
  }
 ],
 "metadata": {
  "kernelspec": {
   "display_name": "Python 3.10.4 64-bit",
   "language": "python",
   "name": "python3"
  },
  "language_info": {
   "codemirror_mode": {
    "name": "ipython",
    "version": 3
   },
   "file_extension": ".py",
   "mimetype": "text/x-python",
   "name": "python",
   "nbconvert_exporter": "python",
   "pygments_lexer": "ipython3",
   "version": "3.8.10"
  },
  "orig_nbformat": 4,
  "vscode": {
   "interpreter": {
    "hash": "916dbcbb3f70747c44a77c7bcd40155683ae19c65e1c03b4aa3499c5328201f1"
   }
  }
 },
 "nbformat": 4,
 "nbformat_minor": 2
}
